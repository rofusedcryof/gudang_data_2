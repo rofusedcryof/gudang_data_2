{
 "cells": [
  {
   "cell_type": "code",
   "execution_count": 73,
   "metadata": {},
   "outputs": [],
   "source": [
    "import pandas as pd\n",
    "import io"
   ]
  },
  {
   "cell_type": "markdown",
   "metadata": {},
   "source": [
    "proses ekstrak"
   ]
  },
  {
   "cell_type": "code",
   "execution_count": null,
   "metadata": {},
   "outputs": [],
   "source": [
    "transaksi_df_raw = pd.read_csv('D:\\Documents\\sem5\\gudat\\gudang_data\\DataTugasGudangData\\transaksi.csv')\n",
    "produk_df_raw = pd.read_excel('D:\\Documents\\sem5\\gudat\\gudang_data\\DataTugasGudangData\\produk.xlsx') \n",
    "feedback_df_raw = pd.read_csv('D:\\Documents\\sem5\\gudat\\gudang_data\\DataTugasGudangData\\feedback.txt')"
   ]
  },
  {
   "cell_type": "code",
   "execution_count": 75,
   "metadata": {},
   "outputs": [
    {
     "name": "stdout",
     "output_type": "stream",
     "text": [
      "\n",
      "[+] Data mentah 'transaksi.csv'\n",
      "  TransaksiID     Tanggal CustomerID ProdukID  Jumlah  HargaSatuan\n",
      "0        T001  2025-08-01       C001     P001       2        50000\n",
      "1        T002  2025-08-01       C002     P002       1        75000\n",
      "2        T003  2025-08-02       C001     P003       3        20000\n",
      "3        T004  2025-08-03       C003     P001       1        50000\n",
      "4        T005  2025-08-03       C004     P002       2        75000\n",
      "\n",
      "[+] Data mentah 'produk.xlsx'\n",
      "  ProdukID                         NamaProduk    Kategori    Supplier\n",
      "0     P001                      Laptop Lenovo  Elektronik   PT Sumber\n",
      "1     P002                 Smartphone Samsung  Elektronik  PT IndoKom\n",
      "2     P003  Buku Pengantar Pembelajaran Mesin  Pendidikan   SDU Press\n",
      "\n",
      "[+] Data mentah feedback.txt'\n",
      "  CustomerID                             Feedback Sentimen\n",
      "0       C001         Pelayanan cepat, sangat puas  Positif\n",
      "1       C002                  Harga terlalu mahal  Negatif\n",
      "2       C003  Produk bagus tapi pengiriman lambat   Netral\n",
      "3       C004       Kurir ramah tapi kemasan rusak  Negatif\n"
     ]
    }
   ],
   "source": [
    "print(\"\\n[+] Data mentah 'transaksi.csv'\")\n",
    "print(transaksi_df_raw.head())\n",
    "print(\"\\n[+] Data mentah 'produk.xlsx'\")\n",
    "print(produk_df_raw.head())\n",
    "print(\"\\n[+] Data mentah feedback.txt'\")\n",
    "print(feedback_df_raw.head())"
   ]
  },
  {
   "cell_type": "markdown",
   "metadata": {},
   "source": [
    "proses transformasi"
   ]
  },
  {
   "cell_type": "markdown",
   "metadata": {},
   "source": [
    "1. standarisasi nama kolom"
   ]
  },
  {
   "cell_type": "code",
   "execution_count": 76,
   "metadata": {},
   "outputs": [],
   "source": [
    "transaksi_df = transaksi_df_raw.rename(columns={\n",
    "    'TransaksiID': 'transaction_id', 'Tanggal': 'date', 'CustomerID': 'customer_id',\n",
    "    'ProdukID': 'product_id', 'Jumlah': 'quantity', 'HargaSatuan': 'price_per_unit'\n",
    "})\n",
    "produk_df = produk_df_raw.rename(columns={\n",
    "    'ProdukID': 'product_id', 'NamaProduk': 'product_name', 'Kategori': 'kategori'\n",
    "})\n",
    "feedback_df = feedback_df_raw.rename(columns={\n",
    "    'CustomerID': 'customer_id', 'Sentimen': 'sentimen'\n",
    "})"
   ]
  },
  {
   "cell_type": "markdown",
   "metadata": {},
   "source": [
    "2. transformasi tipe data dan hitung nilai baru"
   ]
  },
  {
   "cell_type": "code",
   "execution_count": 77,
   "metadata": {},
   "outputs": [],
   "source": [
    "transaksi_df['date'] = pd.to_datetime(transaksi_df['date'])\n",
    "transaksi_df['total_penjualan'] = transaksi_df['quantity'] * transaksi_df['price_per_unit']"
   ]
  },
  {
   "cell_type": "markdown",
   "metadata": {},
   "source": [
    "3. membuat tabel dimensi (sebagai data master)"
   ]
  },
  {
   "cell_type": "code",
   "execution_count": 78,
   "metadata": {},
   "outputs": [],
   "source": [
    "dim_produk = produk_df[['product_id', 'product_name', 'kategori']].copy()\n",
    "dim_pelanggan = pd.merge(\n",
    "    transaksi_df[['customer_id']].drop_duplicates(),\n",
    "    feedback_df[['customer_id', 'sentimen']],\n",
    "    on='customer_id', how='left'\n",
    ")\n",
    "dim_waktu = pd.DataFrame({'tanggal': transaksi_df['date'].unique()})\n",
    "dim_waktu['tahun'] = dim_waktu['tanggal'].dt.year\n",
    "dim_waktu['bulan'] = dim_waktu['tanggal'].dt.month\n",
    "dim_waktu['hari'] = dim_waktu['tanggal'].dt.day"
   ]
  },
  {
   "cell_type": "markdown",
   "metadata": {},
   "source": [
    "4. tabel fakta (untuk data transaksi)"
   ]
  },
  {
   "cell_type": "code",
   "execution_count": 79,
   "metadata": {},
   "outputs": [],
   "source": [
    "fact_penjualan = transaksi_df[['transaction_id', 'customer_id', 'product_id', 'date', 'quantity', 'total_penjualan']].rename(columns={'date': 'tanggal'})"
   ]
  },
  {
   "cell_type": "markdown",
   "metadata": {},
   "source": [
    "load dan analisis (menggabungkan dan analisis data)"
   ]
  },
  {
   "cell_type": "code",
   "execution_count": 80,
   "metadata": {},
   "outputs": [],
   "source": [
    "df_analisis_penjualan = pd.merge(fact_penjualan, dim_produk, on='product_id')"
   ]
  },
  {
   "cell_type": "code",
   "execution_count": 81,
   "metadata": {},
   "outputs": [],
   "source": [
    "total_penjualan_per_kategori = df_analisis_penjualan.groupby('kategori')['total_penjualan'].sum().reset_index()\n",
    "total_penjualan_per_kategori = total_penjualan_per_kategori.sort_values(by='total_penjualan', ascending=False)\n",
    "kepuasan_pelanggan = dim_pelanggan.dropna(subset=['sentimen'])"
   ]
  },
  {
   "cell_type": "code",
   "execution_count": 82,
   "metadata": {},
   "outputs": [
    {
     "name": "stdout",
     "output_type": "stream",
     "text": [
      "\n",
      "\n",
      "HASIL FINAL \n",
      "\n",
      "Jawaban 3a: Total Penjualan per Kategori Produk\n",
      "     kategori  total_penjualan\n",
      "0  Elektronik           375000\n",
      "1  Pendidikan            60000\n",
      "\n",
      "Jawaban 3b: Data Kepuasan Pelanggan yang Tersedia\n",
      "  customer_id sentimen\n",
      "0        C001  Positif\n",
      "1        C002  Negatif\n",
      "2        C003   Netral\n",
      "3        C004  Negatif\n"
     ]
    }
   ],
   "source": [
    "print(\"\\n\\nHASIL FINAL \")\n",
    "print(\"\\nJawaban 3a: Total Penjualan per Kategori Produk\")\n",
    "print(total_penjualan_per_kategori)\n",
    "print(\"\\nJawaban 3b: Data Kepuasan Pelanggan yang Tersedia\")\n",
    "print(kepuasan_pelanggan)"
   ]
  },
  {
   "cell_type": "markdown",
   "metadata": {},
   "source": [
    "simpan file final"
   ]
  },
  {
   "cell_type": "code",
   "execution_count": 83,
   "metadata": {},
   "outputs": [],
   "source": [
    "with pd.ExcelWriter('gudang_data.xlsx') as writer:\n",
    "    fact_penjualan.to_excel(writer, sheet_name='Fakta_Penjualan', index=False)\n",
    "    dim_produk.to_excel(writer, sheet_name='Dimensi_Produk', index=False)\n",
    "    dim_pelanggan.to_excel(writer, sheet_name='Dimensi_Pelanggan', index=False)\n",
    "    dim_waktu.to_excel(writer, sheet_name='Dimensi_Waktu', index=False)"
   ]
  },
  {
   "cell_type": "code",
   "execution_count": 84,
   "metadata": {},
   "outputs": [],
   "source": [
    "with pd.ExcelWriter('hasil_analisis.xlsx') as writer:\n",
    "    total_penjualan_per_kategori.to_excel(writer, sheet_name='Penjualan_per_Kategori', index=False)\n",
    "    kepuasan_pelanggan.to_excel(writer, sheet_name='Kepuasan_Pelanggan', index=False)"
   ]
  },
  {
   "cell_type": "code",
   "execution_count": 85,
   "metadata": {},
   "outputs": [],
   "source": [
    "fact_penjualan.to_csv('fakta_penjualan.csv', index=False)\n",
    "dim_produk.to_csv('dimensi_produk.csv', index=False)\n",
    "total_penjualan_per_kategori.to_csv('hasil_penjualan_per_kategori.csv', index=False)"
   ]
  }
 ],
 "metadata": {
  "kernelspec": {
   "display_name": "base",
   "language": "python",
   "name": "python3"
  },
  "language_info": {
   "codemirror_mode": {
    "name": "ipython",
    "version": 3
   },
   "file_extension": ".py",
   "mimetype": "text/x-python",
   "name": "python",
   "nbconvert_exporter": "python",
   "pygments_lexer": "ipython3",
   "version": "3.11.5"
  }
 },
 "nbformat": 4,
 "nbformat_minor": 2
}
